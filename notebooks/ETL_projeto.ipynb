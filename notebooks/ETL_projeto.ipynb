{
 "cells": [
  {
   "cell_type": "markdown",
   "id": "4b6f22e7",
   "metadata": {},
   "source": [
    "# Leitura da base da dados"
   ]
  },
  {
   "cell_type": "markdown",
   "id": "25b86445",
   "metadata": {},
   "source": [
    "### 1. Upside Capture\n",
    "\n",
    "O Upside Capture Ratio é uma métrica que mede a capacidade de um fundo ou estratégia de capturar os movimentos positivos do mercado em relação ao seu benchmark. Um ratio acima de 100% indica que o fundo tende a superar o benchmark em períodos de alta, enquanto um valor abaixo sugere underperformance nesses cenários.\n",
    "\n",
    "#### 1.1 Filtre os Períodos de Alta do Benchmark\n",
    "Identifique os períodos em que o benchmark teve retornos positivos:\n",
    "$$R_{bench} > 0$$\n",
    "\n",
    "#### 1.2 Calcule o Upside Capture Ratio\n",
    "A fórmula é:\n",
    "    $$Upside\\ Capture\\ Ratio =    \\frac{média\\ dos\\ retornos\\ do\\ fundo\\ nos\\ periodos\\ de\\ alta\\ do\\ benchmar}{média\\ dos\\ retornos\\ de\\ alta\\ do\\ benchmark}$$"
   ]
  },
  {
   "cell_type": "markdown",
   "id": "9ad66148",
   "metadata": {},
   "source": []
  },
  {
   "cell_type": "markdown",
   "id": "4a5fa0bb",
   "metadata": {},
   "source": []
  },
  {
   "cell_type": "code",
   "execution_count": null,
   "id": "099cb70f",
   "metadata": {},
   "outputs": [],
   "source": [
    "import pandas as pd\n",
    "import numpy as np\n",
    "from tabulate import tabulate"
   ]
  },
  {
   "cell_type": "code",
   "execution_count": 32,
   "id": "7aa2ef93",
   "metadata": {},
   "outputs": [],
   "source": [
    "dir = r'C:\\Users\\dieggo.araujo\\Documents\\Analise_FIA_Capture_Rateio\\dados_raw\\Retorno dos Fatores 2023 a 2024.xlsx'"
   ]
  },
  {
   "cell_type": "code",
   "execution_count": 40,
   "id": "59639f00",
   "metadata": {},
   "outputs": [
    {
     "name": "stdout",
     "output_type": "stream",
     "text": [
      "+-----------+----------+------------+-----------------+----------+\n",
      "| Fator     | Upside   | Downside   |   Capture Ratio |   spread |\n",
      "+===========+==========+============+=================+==========+\n",
      "| Defensive | 87.98%   | 79.84%     |            1.1  |     8.14 |\n",
      "+-----------+----------+------------+-----------------+----------+\n",
      "| Valor     | 101.92%  | 96.29%     |            1.06 |     5.63 |\n",
      "+-----------+----------+------------+-----------------+----------+\n",
      "| Momentum  | 97.03%   | 89.45%     |            1.08 |     7.58 |\n",
      "+-----------+----------+------------+-----------------+----------+\n",
      "| Growth    | 102.00%  | 93.66%     |            1.09 |     8.34 |\n",
      "+-----------+----------+------------+-----------------+----------+\n",
      "| SB        | 97.23%   | 87.53%     |            1.11 |     9.7  |\n",
      "+-----------+----------+------------+-----------------+----------+\n"
     ]
    }
   ],
   "source": [
    "# Função para calcular Upside e Downside Capture Ratios\n",
    "def calculate_capture_ratios(fund_returns, bench_returns):\n",
    "    # Upside Capture\n",
    "    up_mask = bench_returns > 0\n",
    "    upside_fund = fund_returns[up_mask]\n",
    "    upside_bench = bench_returns[up_mask]\n",
    "    upside_ratio = (np.mean(upside_fund) / np.mean(upside_bench)) * 100 if len(upside_bench) > 0 else np.nan\n",
    "    \n",
    "    # Downside Capture\n",
    "    down_mask = bench_returns < 0\n",
    "    downside_fund = fund_returns[down_mask]\n",
    "    downside_bench = bench_returns[down_mask]\n",
    "    downside_ratio = (np.mean(downside_fund) / np.mean(downside_bench)) * 100 if len(downside_bench) > 0 else np.nan\n",
    "    \n",
    "    return upside_ratio, downside_ratio\n",
    "\n",
    "# Lista de fatores e dicionário de saída\n",
    "fatores = ['Defensive', 'Valor', 'Momentum', 'Growth', 'SB']\n",
    "bench = 'IBOV'\n",
    "fatores_dict = {}\n",
    "\n",
    "# Supondo que cada planilha tem colunas 'Retorno_Fundo' e 'Retorno_Benchmark'\n",
    "for fator in fatores:\n",
    "    df = pd.read_excel(dir, sheet_name=fator)\n",
    "    \n",
    "    # Calcula os ratios (ajuste os nomes das colunas conforme seu arquivo)\n",
    "    upside, downside = calculate_capture_ratios(\n",
    "        df[fator].values,\n",
    "        df[bench].values\n",
    "    )\n",
    "    \n",
    "    # Armazena no dicionário\n",
    "    fatores_dict[fator] = {\n",
    "        'dataframe': df,  # Opcional: manter o DataFrame original\n",
    "        'upside_ratio': upside,\n",
    "        'downside_ratio': downside,\n",
    "        'capture_ratio': upside / downside if downside != 0 else np.nan,  # Índice combinado\n",
    "        'spread': upside - downside\n",
    "    }\n",
    "    \n",
    "\n",
    "\n",
    "table_data = []\n",
    "for fator, metrics in fatores_dict.items():\n",
    "    table_data.append([\n",
    "        fator,\n",
    "        f\"{metrics['upside_ratio']:.2f}%\",\n",
    "        f\"{metrics['downside_ratio']:.2f}%\",\n",
    "        f\"{metrics['capture_ratio']:.2f}\",\n",
    "        f'{metrics['spread']:.2f}'\n",
    "    ])\n",
    "\n",
    "headers = [\"Fator\", \"Upside\", \"Downside\", \"Capture Ratio\", \"spread\"]\n",
    "print(tabulate(table_data, headers=headers, tablefmt=\"grid\"))"
   ]
  },
  {
   "cell_type": "code",
   "execution_count": null,
   "id": "65469baa",
   "metadata": {},
   "outputs": [],
   "source": []
  }
 ],
 "metadata": {
  "kernelspec": {
   "display_name": "venv",
   "language": "python",
   "name": "python3"
  },
  "language_info": {
   "codemirror_mode": {
    "name": "ipython",
    "version": 3
   },
   "file_extension": ".py",
   "mimetype": "text/x-python",
   "name": "python",
   "nbconvert_exporter": "python",
   "pygments_lexer": "ipython3",
   "version": "3.12.0"
  }
 },
 "nbformat": 4,
 "nbformat_minor": 5
}
